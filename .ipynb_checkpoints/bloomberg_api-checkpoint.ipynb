{
 "cells": [
  {
   "cell_type": "code",
   "execution_count": 53,
   "id": "1a6225b6-a522-4f3c-9f3e-e423fe1384f4",
   "metadata": {},
   "outputs": [],
   "source": [
    "#imports pdblp which allows for directly pulling bloomberg api values into data frames. \n",
    "#pdblp needs to be installed using \"pip install pdblp\". User needs active bloomberg terminal/api access to use this feature\n",
    "import pdblp\n",
    "import pandas as pd\n",
    "import csv\n",
    "from pathlib import Path"
   ]
  },
  {
   "cell_type": "code",
   "execution_count": 54,
   "id": "567ff28a-97f3-4e8f-9fd2-10aa814df42f",
   "metadata": {},
   "outputs": [
    {
     "data": {
      "text/plain": [
       "<pdblp.pdblp.BCon at 0x1eb0c480fc8>"
      ]
     },
     "execution_count": 54,
     "metadata": {},
     "output_type": "execute_result"
    }
   ],
   "source": [
    "#initiate pdblp. debug=True will print out how we are interacting with bloomberg api in case of errors\n",
    "con = pdblp.BCon(debug=False, port=8194, timeout=5000000)    \n",
    "con.start()"
   ]
  },
  {
   "cell_type": "code",
   "execution_count": 55,
   "id": "c2172b67-ab89-4aa0-a5d0-bb2a2e007439",
   "metadata": {},
   "outputs": [],
   "source": [
    "#set path for list of tickers\n",
    "tickers_path = Path(\"./data/Tickers.csv\")\n",
    "\n",
    "\n",
    "#pull tickers and store in a list\n",
    "with open(tickers_path, \"r\") as csvfile:\n",
    "    ticker_list = []\n",
    "    csvreader = csv.reader(csvfile, delimiter=\",\")\n",
    "\n",
    "    # Read the CSV data\n",
    "    for row in csvreader:\n",
    "        ticker_list.append(row)\n",
    "\n",
    "#ticker_list is a list of lists. Remove the list from list of lists\n",
    "ticker_list = ticker_list[0]\n"
   ]
  },
  {
   "cell_type": "code",
   "execution_count": 56,
   "id": "1b77f330-bd75-4fc5-b90f-d2f3e4599f83",
   "metadata": {},
   "outputs": [],
   "source": [
    "#append \" US EQUITY\" to bloomberg api ticker format. we create a new list that is a copy so that we can rename our headers with the original text format\n",
    "bdh_list = ticker_list.copy()\n",
    "\n",
    "for x in range(len(bdh_list)):\n",
    "    bdh_list[x] = ticker_list[x] + \" US EQUITY\"\n",
    "\n"
   ]
  },
  {
   "cell_type": "code",
   "execution_count": 89,
   "id": "631b3170-df9f-42b5-bbf0-781932da7d81",
   "metadata": {},
   "outputs": [],
   "source": [
    "start_date=\"20191101\"\n",
    "end_date =\"20211105\"\n",
    "#pull bloomberg data into dataframe\n",
    "price_df=con.bdh(bdh_list, 'PX_LAST',start_date, end_date)\n",
    "price_df=price_df[bdh_list]\n"
   ]
  },
  {
   "cell_type": "code",
   "execution_count": null,
   "id": "be5a072a-b1fe-45e4-a282-9f02b8fc0507",
   "metadata": {},
   "outputs": [],
   "source": []
  },
  {
   "cell_type": "code",
   "execution_count": 90,
   "id": "1c743552-1760-4af1-85e0-6de4664af60e",
   "metadata": {},
   "outputs": [
    {
     "data": {
      "text/html": [
       "<div>\n",
       "<style scoped>\n",
       "    .dataframe tbody tr th:only-of-type {\n",
       "        vertical-align: middle;\n",
       "    }\n",
       "\n",
       "    .dataframe tbody tr th {\n",
       "        vertical-align: top;\n",
       "    }\n",
       "\n",
       "    .dataframe thead th {\n",
       "        text-align: right;\n",
       "    }\n",
       "</style>\n",
       "<table border=\"1\" class=\"dataframe\">\n",
       "  <thead>\n",
       "    <tr style=\"text-align: right;\">\n",
       "      <th></th>\n",
       "      <th>AAPL</th>\n",
       "      <th>TSLA</th>\n",
       "      <th>F</th>\n",
       "      <th>BABA</th>\n",
       "      <th>BAC</th>\n",
       "      <th>T</th>\n",
       "      <th>AMD</th>\n",
       "      <th>PLTR</th>\n",
       "      <th>AAL</th>\n",
       "      <th>NIO</th>\n",
       "      <th>...</th>\n",
       "      <th>RADA</th>\n",
       "      <th>DBI</th>\n",
       "      <th>GDOT</th>\n",
       "      <th>RL</th>\n",
       "      <th>SUMO</th>\n",
       "      <th>CNDT</th>\n",
       "      <th>IO</th>\n",
       "      <th>LL</th>\n",
       "      <th>DOLE</th>\n",
       "      <th>SYK</th>\n",
       "    </tr>\n",
       "    <tr>\n",
       "      <th>date</th>\n",
       "      <th></th>\n",
       "      <th></th>\n",
       "      <th></th>\n",
       "      <th></th>\n",
       "      <th></th>\n",
       "      <th></th>\n",
       "      <th></th>\n",
       "      <th></th>\n",
       "      <th></th>\n",
       "      <th></th>\n",
       "      <th></th>\n",
       "      <th></th>\n",
       "      <th></th>\n",
       "      <th></th>\n",
       "      <th></th>\n",
       "      <th></th>\n",
       "      <th></th>\n",
       "      <th></th>\n",
       "      <th></th>\n",
       "      <th></th>\n",
       "      <th></th>\n",
       "    </tr>\n",
       "  </thead>\n",
       "  <tbody>\n",
       "    <tr>\n",
       "      <th>2019-11-01</th>\n",
       "      <td>62.830</td>\n",
       "      <td>62.662</td>\n",
       "      <td>8.7413</td>\n",
       "      <td>176.46</td>\n",
       "      <td>30.3650</td>\n",
       "      <td>33.9283</td>\n",
       "      <td>34.89</td>\n",
       "      <td>NaN</td>\n",
       "      <td>30.3491</td>\n",
       "      <td>1.52</td>\n",
       "      <td>...</td>\n",
       "      <td>5.03</td>\n",
       "      <td>16.3404</td>\n",
       "      <td>29.08</td>\n",
       "      <td>95.3355</td>\n",
       "      <td>NaN</td>\n",
       "      <td>6.37</td>\n",
       "      <td>8.7656</td>\n",
       "      <td>9.11</td>\n",
       "      <td>NaN</td>\n",
       "      <td>208.0469</td>\n",
       "    </tr>\n",
       "    <tr>\n",
       "      <th>2019-11-04</th>\n",
       "      <td>63.243</td>\n",
       "      <td>63.494</td>\n",
       "      <td>8.8495</td>\n",
       "      <td>179.69</td>\n",
       "      <td>30.9379</td>\n",
       "      <td>33.8761</td>\n",
       "      <td>36.29</td>\n",
       "      <td>NaN</td>\n",
       "      <td>30.7364</td>\n",
       "      <td>1.71</td>\n",
       "      <td>...</td>\n",
       "      <td>5.55</td>\n",
       "      <td>16.8929</td>\n",
       "      <td>29.36</td>\n",
       "      <td>96.3571</td>\n",
       "      <td>NaN</td>\n",
       "      <td>6.54</td>\n",
       "      <td>8.8028</td>\n",
       "      <td>9.34</td>\n",
       "      <td>NaN</td>\n",
       "      <td>200.6156</td>\n",
       "    </tr>\n",
       "    <tr>\n",
       "      <th>2019-11-05</th>\n",
       "      <td>63.152</td>\n",
       "      <td>63.444</td>\n",
       "      <td>8.8692</td>\n",
       "      <td>182.00</td>\n",
       "      <td>31.3389</td>\n",
       "      <td>34.1200</td>\n",
       "      <td>36.15</td>\n",
       "      <td>NaN</td>\n",
       "      <td>31.0652</td>\n",
       "      <td>2.34</td>\n",
       "      <td>...</td>\n",
       "      <td>5.54</td>\n",
       "      <td>17.8718</td>\n",
       "      <td>29.32</td>\n",
       "      <td>99.2953</td>\n",
       "      <td>NaN</td>\n",
       "      <td>6.67</td>\n",
       "      <td>8.7749</td>\n",
       "      <td>9.38</td>\n",
       "      <td>NaN</td>\n",
       "      <td>193.9666</td>\n",
       "    </tr>\n",
       "    <tr>\n",
       "      <th>2019-11-06</th>\n",
       "      <td>63.179</td>\n",
       "      <td>65.316</td>\n",
       "      <td>8.7708</td>\n",
       "      <td>184.16</td>\n",
       "      <td>31.3103</td>\n",
       "      <td>34.1896</td>\n",
       "      <td>35.93</td>\n",
       "      <td>NaN</td>\n",
       "      <td>30.8460</td>\n",
       "      <td>2.03</td>\n",
       "      <td>...</td>\n",
       "      <td>5.36</td>\n",
       "      <td>18.1431</td>\n",
       "      <td>29.41</td>\n",
       "      <td>98.1473</td>\n",
       "      <td>NaN</td>\n",
       "      <td>6.62</td>\n",
       "      <td>8.4406</td>\n",
       "      <td>9.14</td>\n",
       "      <td>NaN</td>\n",
       "      <td>196.5480</td>\n",
       "    </tr>\n",
       "    <tr>\n",
       "      <th>2019-11-07</th>\n",
       "      <td>63.908</td>\n",
       "      <td>67.108</td>\n",
       "      <td>8.7413</td>\n",
       "      <td>186.66</td>\n",
       "      <td>31.7304</td>\n",
       "      <td>34.3377</td>\n",
       "      <td>36.28</td>\n",
       "      <td>NaN</td>\n",
       "      <td>30.7763</td>\n",
       "      <td>2.07</td>\n",
       "      <td>...</td>\n",
       "      <td>5.14</td>\n",
       "      <td>18.0365</td>\n",
       "      <td>29.95</td>\n",
       "      <td>112.5366</td>\n",
       "      <td>NaN</td>\n",
       "      <td>7.38</td>\n",
       "      <td>8.7006</td>\n",
       "      <td>9.33</td>\n",
       "      <td>NaN</td>\n",
       "      <td>196.3231</td>\n",
       "    </tr>\n",
       "  </tbody>\n",
       "</table>\n",
       "<p>5 rows × 1195 columns</p>\n",
       "</div>"
      ],
      "text/plain": [
       "              AAPL    TSLA       F    BABA      BAC        T    AMD  PLTR  \\\n",
       "date                                                                        \n",
       "2019-11-01  62.830  62.662  8.7413  176.46  30.3650  33.9283  34.89   NaN   \n",
       "2019-11-04  63.243  63.494  8.8495  179.69  30.9379  33.8761  36.29   NaN   \n",
       "2019-11-05  63.152  63.444  8.8692  182.00  31.3389  34.1200  36.15   NaN   \n",
       "2019-11-06  63.179  65.316  8.7708  184.16  31.3103  34.1896  35.93   NaN   \n",
       "2019-11-07  63.908  67.108  8.7413  186.66  31.7304  34.3377  36.28   NaN   \n",
       "\n",
       "                AAL   NIO  ...  RADA      DBI   GDOT        RL  SUMO  CNDT  \\\n",
       "date                       ...                                               \n",
       "2019-11-01  30.3491  1.52  ...  5.03  16.3404  29.08   95.3355   NaN  6.37   \n",
       "2019-11-04  30.7364  1.71  ...  5.55  16.8929  29.36   96.3571   NaN  6.54   \n",
       "2019-11-05  31.0652  2.34  ...  5.54  17.8718  29.32   99.2953   NaN  6.67   \n",
       "2019-11-06  30.8460  2.03  ...  5.36  18.1431  29.41   98.1473   NaN  6.62   \n",
       "2019-11-07  30.7763  2.07  ...  5.14  18.0365  29.95  112.5366   NaN  7.38   \n",
       "\n",
       "                IO    LL  DOLE       SYK  \n",
       "date                                      \n",
       "2019-11-01  8.7656  9.11   NaN  208.0469  \n",
       "2019-11-04  8.8028  9.34   NaN  200.6156  \n",
       "2019-11-05  8.7749  9.38   NaN  193.9666  \n",
       "2019-11-06  8.4406  9.14   NaN  196.5480  \n",
       "2019-11-07  8.7006  9.33   NaN  196.3231  \n",
       "\n",
       "[5 rows x 1195 columns]"
      ]
     },
     "metadata": {},
     "output_type": "display_data"
    }
   ],
   "source": [
    "#rename the headers\n",
    "price_df.set_axis(ticker_list,axis=1,inplace=True)\n",
    "display(price_df.head())"
   ]
  },
  {
   "cell_type": "code",
   "execution_count": 92,
   "id": "c14cc913-dd2e-47c6-8302-4c92cb6f4e6d",
   "metadata": {},
   "outputs": [],
   "source": [
    "#store the data as CSV\n",
    "output_path = Path(\"./data/Stock_Prices_20211102.csv\")\n",
    "price_df.to_csv(output_path)"
   ]
  },
  {
   "cell_type": "code",
   "execution_count": 93,
   "id": "b969ec8c-b563-45c1-99f9-942e46482fe3",
   "metadata": {},
   "outputs": [],
   "source": [
    "call_df=con.bdh(bdh_list, 'volume_total_call', start_date, end_date)\n",
    "call_df=call_df[bdh_list]\n",
    "call_df.set_axis(ticker_list,axis=1,inplace=True)\n",
    "call_df.to_csv(Path(\"./data/Call_Volume_20211102.csv\"))"
   ]
  },
  {
   "cell_type": "code",
   "execution_count": 94,
   "id": "bdd92880-0fbd-432f-9193-6d99e9456edb",
   "metadata": {},
   "outputs": [],
   "source": [
    "put_df=con.bdh(bdh_list, 'volume_total_put', start_date, end_date)\n",
    "put_df=put_df[bdh_list]\n",
    "put_df.set_axis(ticker_list,axis=1,inplace=True)\n",
    "put_df.to_csv(Path(\"./data/Put_Volume_20211102.csv\"))"
   ]
  },
  {
   "cell_type": "code",
   "execution_count": 95,
   "id": "08de7ee2-472c-4010-b127-6ecf74b07d3b",
   "metadata": {},
   "outputs": [],
   "source": [
    "mkt_cap_df=con.bdh(bdh_list, 'cur_mkt_cap', start_date, end_date)\n",
    "mkt_cap_df=mkt_cap_df[bdh_list]\n",
    "mkt_cap_df.set_axis(ticker_list,axis=1,inplace=True)\n",
    "mkt_cap_df.to_csv(Path(\"./data/Market_Cap_20211102.csv\"))"
   ]
  },
  {
   "cell_type": "code",
   "execution_count": 96,
   "id": "0a064d26-459e-448d-b5b4-9be919cadc82",
   "metadata": {},
   "outputs": [],
   "source": [
    "oi_df=con.bdh(bdh_list, 'put_call_open_interest_total', start_date, end_date)\n",
    "oi_df=oi_df[bdh_list]\n",
    "oi_df.set_axis(ticker_list,axis=1,inplace=True)\n",
    "oi_df.to_csv(Path(\"./data/Open_Interest_20211102.csv\"))\n"
   ]
  },
  {
   "cell_type": "code",
   "execution_count": 97,
   "id": "7c8d3c0b-faf5-4485-8e1b-a33f3b756899",
   "metadata": {},
   "outputs": [],
   "source": [
    "spy_df=con.bdh(\"SPY EQUITY\", 'px_last', start_date, end_date)\n",
    "#spy_df.set_axis(\"SPY\",axis=1,inplace=True)\n",
    "spy_df.set_axis([\"SPY\"], axis=1,inplace=True)\n",
    "spy_df.to_csv(Path(\"./data/SPY_Price_20211102.csv\"))"
   ]
  },
  {
   "cell_type": "code",
   "execution_count": 70,
   "id": "acc25dc7-7a6e-4bef-b201-91161739d30c",
   "metadata": {},
   "outputs": [],
   "source": [
    "si_df=con.bdh(bdh_list, 'si_percent_equity_float', start_date, end_date)\n",
    "si_df=si_df[bdh_list]\n",
    "si_df.set_axis(ticker_list,axis=1,inplace=True)\n",
    "si_df.to_csv(Path(\"./data/Short_interest_20211102.csv\"))"
   ]
  },
  {
   "cell_type": "code",
   "execution_count": null,
   "id": "fcbff0ab-d404-4b40-ba45-d40c11cb3d08",
   "metadata": {},
   "outputs": [],
   "source": [
    " "
   ]
  },
  {
   "cell_type": "code",
   "execution_count": 63,
   "id": "fa5efbef-f3b3-4946-893d-70443c5c5e2d",
   "metadata": {},
   "outputs": [
    {
     "ename": "KeyError",
     "evalue": "\"['BABA US EQUITY' 'NIO US EQUITY' 'EDU US EQUITY' 'TAL US EQUITY'\\n 'JD US EQUITY' 'BIDU US EQUITY' 'TME US EQUITY' 'IQ US EQUITY'\\n 'LI US EQUITY' 'PDD US EQUITY' 'XPEV US EQUITY' 'VIPS US EQUITY'\\n 'JMIA US EQUITY' 'SE US EQUITY' 'FUTU US EQUITY' 'TIGR US EQUITY'\\n 'GOTU US EQUITY' 'AMRN US EQUITY' 'BILI US EQUITY' 'HIMX US EQUITY'\\n 'MLCO US EQUITY' 'BNTX US EQUITY' 'RLX US EQUITY' 'BEKE US EQUITY'\\n 'TCOM US EQUITY' 'CAN US EQUITY' 'CMPS US EQUITY' 'OTLY US EQUITY'\\n 'QD US EQUITY' 'MOMO US EQUITY' 'NTES US EQUITY' 'FINV US EQUITY'\\n 'YY US EQUITY' 'GDS US EQUITY' 'BTCM US EQUITY' 'HUYA US EQUITY'\\n 'LU US EQUITY' 'UXIN US EQUITY' 'AVDL US EQUITY' 'DOYU US EQUITY'\\n 'TX US EQUITY' 'LX US EQUITY' 'WIMI US EQUITY' 'JKS US EQUITY'\\n 'OZON US EQUITY' 'SOL US EQUITY' 'BZUN US EQUITY' 'KC US EQUITY'\\n 'ZTO US EQUITY' 'WB US EQUITY' 'DQ US EQUITY' 'QFIN US EQUITY'\\n 'BEST US EQUITY' 'NCTY US EQUITY' 'CRTO US EQUITY' 'SOHU US EQUITY'] not in index\"",
     "output_type": "error",
     "traceback": [
      "\u001b[1;31m---------------------------------------------------------------------------\u001b[0m",
      "\u001b[1;31mKeyError\u001b[0m                                  Traceback (most recent call last)",
      "\u001b[1;32m<ipython-input-63-b3fb6976dc51>\u001b[0m in \u001b[0;36m<module>\u001b[1;34m\u001b[0m\n\u001b[0;32m      1\u001b[0m \u001b[0mfloat_df\u001b[0m\u001b[1;33m=\u001b[0m\u001b[0mcon\u001b[0m\u001b[1;33m.\u001b[0m\u001b[0mbdh\u001b[0m\u001b[1;33m(\u001b[0m\u001b[0mbdh_list\u001b[0m\u001b[1;33m,\u001b[0m \u001b[1;34m'EQY_FREE_FLOAT_PCT'\u001b[0m\u001b[1;33m,\u001b[0m \u001b[0mstart_date\u001b[0m\u001b[1;33m,\u001b[0m \u001b[0mend_date\u001b[0m\u001b[1;33m)\u001b[0m\u001b[1;33m\u001b[0m\u001b[1;33m\u001b[0m\u001b[0m\n\u001b[1;32m----> 2\u001b[1;33m \u001b[0mfloat_df\u001b[0m\u001b[1;33m=\u001b[0m\u001b[0mfloat_df\u001b[0m\u001b[1;33m[\u001b[0m\u001b[0mbdh_list\u001b[0m\u001b[1;33m]\u001b[0m\u001b[1;33m\u001b[0m\u001b[1;33m\u001b[0m\u001b[0m\n\u001b[0m\u001b[0;32m      3\u001b[0m \u001b[0mfloat_df\u001b[0m\u001b[1;33m.\u001b[0m\u001b[0mset_axis\u001b[0m\u001b[1;33m(\u001b[0m\u001b[0mticker_list\u001b[0m\u001b[1;33m,\u001b[0m\u001b[0maxis\u001b[0m\u001b[1;33m=\u001b[0m\u001b[1;36m1\u001b[0m\u001b[1;33m,\u001b[0m\u001b[0minplace\u001b[0m\u001b[1;33m=\u001b[0m\u001b[1;32mTrue\u001b[0m\u001b[1;33m)\u001b[0m\u001b[1;33m\u001b[0m\u001b[1;33m\u001b[0m\u001b[0m\n\u001b[0;32m      4\u001b[0m \u001b[0mfloat_df\u001b[0m\u001b[1;33m.\u001b[0m\u001b[0mto_csv\u001b[0m\u001b[1;33m(\u001b[0m\u001b[0mPath\u001b[0m\u001b[1;33m(\u001b[0m\u001b[1;34m\"./data/Put_Volume_20211102.csv\"\u001b[0m\u001b[1;33m)\u001b[0m\u001b[1;33m)\u001b[0m\u001b[1;33m\u001b[0m\u001b[1;33m\u001b[0m\u001b[0m\n",
      "\u001b[1;32m~\\anaconda3\\envs\\main\\lib\\site-packages\\pandas\\core\\frame.py\u001b[0m in \u001b[0;36m__getitem__\u001b[1;34m(self, key)\u001b[0m\n\u001b[0;32m   3028\u001b[0m             \u001b[1;32mif\u001b[0m \u001b[0mis_iterator\u001b[0m\u001b[1;33m(\u001b[0m\u001b[0mkey\u001b[0m\u001b[1;33m)\u001b[0m\u001b[1;33m:\u001b[0m\u001b[1;33m\u001b[0m\u001b[1;33m\u001b[0m\u001b[0m\n\u001b[0;32m   3029\u001b[0m                 \u001b[0mkey\u001b[0m \u001b[1;33m=\u001b[0m \u001b[0mlist\u001b[0m\u001b[1;33m(\u001b[0m\u001b[0mkey\u001b[0m\u001b[1;33m)\u001b[0m\u001b[1;33m\u001b[0m\u001b[1;33m\u001b[0m\u001b[0m\n\u001b[1;32m-> 3030\u001b[1;33m             \u001b[0mindexer\u001b[0m \u001b[1;33m=\u001b[0m \u001b[0mself\u001b[0m\u001b[1;33m.\u001b[0m\u001b[0mloc\u001b[0m\u001b[1;33m.\u001b[0m\u001b[0m_get_listlike_indexer\u001b[0m\u001b[1;33m(\u001b[0m\u001b[0mkey\u001b[0m\u001b[1;33m,\u001b[0m \u001b[0maxis\u001b[0m\u001b[1;33m=\u001b[0m\u001b[1;36m1\u001b[0m\u001b[1;33m,\u001b[0m \u001b[0mraise_missing\u001b[0m\u001b[1;33m=\u001b[0m\u001b[1;32mTrue\u001b[0m\u001b[1;33m)\u001b[0m\u001b[1;33m[\u001b[0m\u001b[1;36m1\u001b[0m\u001b[1;33m]\u001b[0m\u001b[1;33m\u001b[0m\u001b[1;33m\u001b[0m\u001b[0m\n\u001b[0m\u001b[0;32m   3031\u001b[0m \u001b[1;33m\u001b[0m\u001b[0m\n\u001b[0;32m   3032\u001b[0m         \u001b[1;31m# take() does not accept boolean indexers\u001b[0m\u001b[1;33m\u001b[0m\u001b[1;33m\u001b[0m\u001b[1;33m\u001b[0m\u001b[0m\n",
      "\u001b[1;32m~\\anaconda3\\envs\\main\\lib\\site-packages\\pandas\\core\\indexing.py\u001b[0m in \u001b[0;36m_get_listlike_indexer\u001b[1;34m(self, key, axis, raise_missing)\u001b[0m\n\u001b[0;32m   1252\u001b[0m         \u001b[1;31m# Have the index compute an indexer or return None\u001b[0m\u001b[1;33m\u001b[0m\u001b[1;33m\u001b[0m\u001b[1;33m\u001b[0m\u001b[0m\n\u001b[0;32m   1253\u001b[0m         \u001b[1;31m# if it cannot handle:\u001b[0m\u001b[1;33m\u001b[0m\u001b[1;33m\u001b[0m\u001b[1;33m\u001b[0m\u001b[0m\n\u001b[1;32m-> 1254\u001b[1;33m         \u001b[0mindexer\u001b[0m\u001b[1;33m,\u001b[0m \u001b[0mkeyarr\u001b[0m \u001b[1;33m=\u001b[0m \u001b[0max\u001b[0m\u001b[1;33m.\u001b[0m\u001b[0m_convert_listlike_indexer\u001b[0m\u001b[1;33m(\u001b[0m\u001b[0mkey\u001b[0m\u001b[1;33m)\u001b[0m\u001b[1;33m\u001b[0m\u001b[1;33m\u001b[0m\u001b[0m\n\u001b[0m\u001b[0;32m   1255\u001b[0m         \u001b[1;31m# We only act on all found values:\u001b[0m\u001b[1;33m\u001b[0m\u001b[1;33m\u001b[0m\u001b[1;33m\u001b[0m\u001b[0m\n\u001b[0;32m   1256\u001b[0m         \u001b[1;32mif\u001b[0m \u001b[0mindexer\u001b[0m \u001b[1;32mis\u001b[0m \u001b[1;32mnot\u001b[0m \u001b[1;32mNone\u001b[0m \u001b[1;32mand\u001b[0m \u001b[1;33m(\u001b[0m\u001b[0mindexer\u001b[0m \u001b[1;33m!=\u001b[0m \u001b[1;33m-\u001b[0m\u001b[1;36m1\u001b[0m\u001b[1;33m)\u001b[0m\u001b[1;33m.\u001b[0m\u001b[0mall\u001b[0m\u001b[1;33m(\u001b[0m\u001b[1;33m)\u001b[0m\u001b[1;33m:\u001b[0m\u001b[1;33m\u001b[0m\u001b[1;33m\u001b[0m\u001b[0m\n",
      "\u001b[1;32m~\\anaconda3\\envs\\main\\lib\\site-packages\\pandas\\core\\indexes\\multi.py\u001b[0m in \u001b[0;36m_convert_listlike_indexer\u001b[1;34m(self, keyarr)\u001b[0m\n\u001b[0;32m   2566\u001b[0m             \u001b[0mmask\u001b[0m \u001b[1;33m=\u001b[0m \u001b[0mcheck\u001b[0m \u001b[1;33m==\u001b[0m \u001b[1;33m-\u001b[0m\u001b[1;36m1\u001b[0m\u001b[1;33m\u001b[0m\u001b[1;33m\u001b[0m\u001b[0m\n\u001b[0;32m   2567\u001b[0m             \u001b[1;32mif\u001b[0m \u001b[0mmask\u001b[0m\u001b[1;33m.\u001b[0m\u001b[0many\u001b[0m\u001b[1;33m(\u001b[0m\u001b[1;33m)\u001b[0m\u001b[1;33m:\u001b[0m\u001b[1;33m\u001b[0m\u001b[1;33m\u001b[0m\u001b[0m\n\u001b[1;32m-> 2568\u001b[1;33m                 \u001b[1;32mraise\u001b[0m \u001b[0mKeyError\u001b[0m\u001b[1;33m(\u001b[0m\u001b[1;34mf\"{keyarr[mask]} not in index\"\u001b[0m\u001b[1;33m)\u001b[0m\u001b[1;33m\u001b[0m\u001b[1;33m\u001b[0m\u001b[0m\n\u001b[0m\u001b[0;32m   2569\u001b[0m \u001b[1;33m\u001b[0m\u001b[0m\n\u001b[0;32m   2570\u001b[0m         \u001b[1;32mreturn\u001b[0m \u001b[0mindexer\u001b[0m\u001b[1;33m,\u001b[0m \u001b[0mkeyarr\u001b[0m\u001b[1;33m\u001b[0m\u001b[1;33m\u001b[0m\u001b[0m\n",
      "\u001b[1;31mKeyError\u001b[0m: \"['BABA US EQUITY' 'NIO US EQUITY' 'EDU US EQUITY' 'TAL US EQUITY'\\n 'JD US EQUITY' 'BIDU US EQUITY' 'TME US EQUITY' 'IQ US EQUITY'\\n 'LI US EQUITY' 'PDD US EQUITY' 'XPEV US EQUITY' 'VIPS US EQUITY'\\n 'JMIA US EQUITY' 'SE US EQUITY' 'FUTU US EQUITY' 'TIGR US EQUITY'\\n 'GOTU US EQUITY' 'AMRN US EQUITY' 'BILI US EQUITY' 'HIMX US EQUITY'\\n 'MLCO US EQUITY' 'BNTX US EQUITY' 'RLX US EQUITY' 'BEKE US EQUITY'\\n 'TCOM US EQUITY' 'CAN US EQUITY' 'CMPS US EQUITY' 'OTLY US EQUITY'\\n 'QD US EQUITY' 'MOMO US EQUITY' 'NTES US EQUITY' 'FINV US EQUITY'\\n 'YY US EQUITY' 'GDS US EQUITY' 'BTCM US EQUITY' 'HUYA US EQUITY'\\n 'LU US EQUITY' 'UXIN US EQUITY' 'AVDL US EQUITY' 'DOYU US EQUITY'\\n 'TX US EQUITY' 'LX US EQUITY' 'WIMI US EQUITY' 'JKS US EQUITY'\\n 'OZON US EQUITY' 'SOL US EQUITY' 'BZUN US EQUITY' 'KC US EQUITY'\\n 'ZTO US EQUITY' 'WB US EQUITY' 'DQ US EQUITY' 'QFIN US EQUITY'\\n 'BEST US EQUITY' 'NCTY US EQUITY' 'CRTO US EQUITY' 'SOHU US EQUITY'] not in index\""
     ]
    }
   ],
   "source": [
    "float_df=con.bdh(bdh_list, 'EQY_FREE_FLOAT_PCT', start_date, end_date)\n",
    "float_df=float_df[bdh_list]\n",
    "float_df.set_axis(ticker_list,axis=1,inplace=True)\n",
    "float_df.to_csv(Path(\"./data/Put_Volume_20211102.csv\"))"
   ]
  },
  {
   "cell_type": "code",
   "execution_count": 77,
   "id": "e8c2b0ee-60a6-472a-aef1-aea9556f43c2",
   "metadata": {},
   "outputs": [
    {
     "ename": "KeyError",
     "evalue": "\"['BABA US EQUITY' 'NIO US EQUITY' 'EDU US EQUITY' 'TAL US EQUITY'\\n 'JD US EQUITY' 'BIDU US EQUITY' 'TME US EQUITY' 'IQ US EQUITY'\\n 'LI US EQUITY' 'PDD US EQUITY' 'XPEV US EQUITY' 'VIPS US EQUITY'\\n 'JMIA US EQUITY' 'SE US EQUITY' 'FUTU US EQUITY' 'TIGR US EQUITY'\\n 'GOTU US EQUITY' 'AMRN US EQUITY' 'BILI US EQUITY' 'HIMX US EQUITY'\\n 'MLCO US EQUITY' 'BNTX US EQUITY' 'RLX US EQUITY' 'BEKE US EQUITY'\\n 'TCOM US EQUITY' 'CAN US EQUITY' 'CMPS US EQUITY' 'OTLY US EQUITY'\\n 'QD US EQUITY' 'MOMO US EQUITY' 'NTES US EQUITY' 'FINV US EQUITY'\\n 'YY US EQUITY' 'GDS US EQUITY' 'BTCM US EQUITY' 'HUYA US EQUITY'\\n 'LU US EQUITY' 'UXIN US EQUITY' 'AVDL US EQUITY' 'DOYU US EQUITY'\\n 'TX US EQUITY' 'LX US EQUITY' 'WIMI US EQUITY' 'JKS US EQUITY'\\n 'OZON US EQUITY' 'SOL US EQUITY' 'BZUN US EQUITY' 'KC US EQUITY'\\n 'ZTO US EQUITY' 'WB US EQUITY' 'DQ US EQUITY' 'QFIN US EQUITY'\\n 'BEST US EQUITY' 'NCTY US EQUITY' 'CRTO US EQUITY' 'SOHU US EQUITY'] not in index\"",
     "output_type": "error",
     "traceback": [
      "\u001b[1;31m---------------------------------------------------------------------------\u001b[0m",
      "\u001b[1;31mKeyError\u001b[0m                                  Traceback (most recent call last)",
      "\u001b[1;32m<ipython-input-77-24c115f16299>\u001b[0m in \u001b[0;36m<module>\u001b[1;34m\u001b[0m\n\u001b[0;32m      1\u001b[0m \u001b[0msector_df\u001b[0m\u001b[1;33m=\u001b[0m\u001b[0mcon\u001b[0m\u001b[1;33m.\u001b[0m\u001b[0mref\u001b[0m\u001b[1;33m(\u001b[0m\u001b[0mbdh_list\u001b[0m\u001b[1;33m,\u001b[0m \u001b[1;34m'GICS_SECTOR_NAME'\u001b[0m\u001b[1;33m)\u001b[0m\u001b[1;33m\u001b[0m\u001b[1;33m\u001b[0m\u001b[0m\n\u001b[0;32m      2\u001b[0m \u001b[0msector_df\u001b[0m\u001b[1;33m.\u001b[0m\u001b[0mset_index\u001b[0m\u001b[1;33m(\u001b[0m\u001b[1;34m\"ticker\"\u001b[0m\u001b[1;33m)\u001b[0m\u001b[1;33m\u001b[0m\u001b[1;33m\u001b[0m\u001b[0m\n\u001b[1;32m----> 3\u001b[1;33m \u001b[0mfloat_df\u001b[0m\u001b[1;33m=\u001b[0m\u001b[0mfloat_df\u001b[0m\u001b[1;33m[\u001b[0m\u001b[0mbdh_list\u001b[0m\u001b[1;33m]\u001b[0m\u001b[1;33m\u001b[0m\u001b[1;33m\u001b[0m\u001b[0m\n\u001b[0m\u001b[0;32m      4\u001b[0m \u001b[0msector_df\u001b[0m\u001b[1;33m.\u001b[0m\u001b[0mset_axis\u001b[0m\u001b[1;33m(\u001b[0m\u001b[0mticker_list\u001b[0m\u001b[1;33m,\u001b[0m\u001b[0minplace\u001b[0m\u001b[1;33m=\u001b[0m\u001b[1;32mTrue\u001b[0m\u001b[1;33m)\u001b[0m\u001b[1;33m\u001b[0m\u001b[1;33m\u001b[0m\u001b[0m\n\u001b[0;32m      5\u001b[0m \u001b[0msector_df\u001b[0m\u001b[1;33m\u001b[0m\u001b[1;33m\u001b[0m\u001b[0m\n",
      "\u001b[1;32m~\\anaconda3\\envs\\main\\lib\\site-packages\\pandas\\core\\frame.py\u001b[0m in \u001b[0;36m__getitem__\u001b[1;34m(self, key)\u001b[0m\n\u001b[0;32m   3028\u001b[0m             \u001b[1;32mif\u001b[0m \u001b[0mis_iterator\u001b[0m\u001b[1;33m(\u001b[0m\u001b[0mkey\u001b[0m\u001b[1;33m)\u001b[0m\u001b[1;33m:\u001b[0m\u001b[1;33m\u001b[0m\u001b[1;33m\u001b[0m\u001b[0m\n\u001b[0;32m   3029\u001b[0m                 \u001b[0mkey\u001b[0m \u001b[1;33m=\u001b[0m \u001b[0mlist\u001b[0m\u001b[1;33m(\u001b[0m\u001b[0mkey\u001b[0m\u001b[1;33m)\u001b[0m\u001b[1;33m\u001b[0m\u001b[1;33m\u001b[0m\u001b[0m\n\u001b[1;32m-> 3030\u001b[1;33m             \u001b[0mindexer\u001b[0m \u001b[1;33m=\u001b[0m \u001b[0mself\u001b[0m\u001b[1;33m.\u001b[0m\u001b[0mloc\u001b[0m\u001b[1;33m.\u001b[0m\u001b[0m_get_listlike_indexer\u001b[0m\u001b[1;33m(\u001b[0m\u001b[0mkey\u001b[0m\u001b[1;33m,\u001b[0m \u001b[0maxis\u001b[0m\u001b[1;33m=\u001b[0m\u001b[1;36m1\u001b[0m\u001b[1;33m,\u001b[0m \u001b[0mraise_missing\u001b[0m\u001b[1;33m=\u001b[0m\u001b[1;32mTrue\u001b[0m\u001b[1;33m)\u001b[0m\u001b[1;33m[\u001b[0m\u001b[1;36m1\u001b[0m\u001b[1;33m]\u001b[0m\u001b[1;33m\u001b[0m\u001b[1;33m\u001b[0m\u001b[0m\n\u001b[0m\u001b[0;32m   3031\u001b[0m \u001b[1;33m\u001b[0m\u001b[0m\n\u001b[0;32m   3032\u001b[0m         \u001b[1;31m# take() does not accept boolean indexers\u001b[0m\u001b[1;33m\u001b[0m\u001b[1;33m\u001b[0m\u001b[1;33m\u001b[0m\u001b[0m\n",
      "\u001b[1;32m~\\anaconda3\\envs\\main\\lib\\site-packages\\pandas\\core\\indexing.py\u001b[0m in \u001b[0;36m_get_listlike_indexer\u001b[1;34m(self, key, axis, raise_missing)\u001b[0m\n\u001b[0;32m   1252\u001b[0m         \u001b[1;31m# Have the index compute an indexer or return None\u001b[0m\u001b[1;33m\u001b[0m\u001b[1;33m\u001b[0m\u001b[1;33m\u001b[0m\u001b[0m\n\u001b[0;32m   1253\u001b[0m         \u001b[1;31m# if it cannot handle:\u001b[0m\u001b[1;33m\u001b[0m\u001b[1;33m\u001b[0m\u001b[1;33m\u001b[0m\u001b[0m\n\u001b[1;32m-> 1254\u001b[1;33m         \u001b[0mindexer\u001b[0m\u001b[1;33m,\u001b[0m \u001b[0mkeyarr\u001b[0m \u001b[1;33m=\u001b[0m \u001b[0max\u001b[0m\u001b[1;33m.\u001b[0m\u001b[0m_convert_listlike_indexer\u001b[0m\u001b[1;33m(\u001b[0m\u001b[0mkey\u001b[0m\u001b[1;33m)\u001b[0m\u001b[1;33m\u001b[0m\u001b[1;33m\u001b[0m\u001b[0m\n\u001b[0m\u001b[0;32m   1255\u001b[0m         \u001b[1;31m# We only act on all found values:\u001b[0m\u001b[1;33m\u001b[0m\u001b[1;33m\u001b[0m\u001b[1;33m\u001b[0m\u001b[0m\n\u001b[0;32m   1256\u001b[0m         \u001b[1;32mif\u001b[0m \u001b[0mindexer\u001b[0m \u001b[1;32mis\u001b[0m \u001b[1;32mnot\u001b[0m \u001b[1;32mNone\u001b[0m \u001b[1;32mand\u001b[0m \u001b[1;33m(\u001b[0m\u001b[0mindexer\u001b[0m \u001b[1;33m!=\u001b[0m \u001b[1;33m-\u001b[0m\u001b[1;36m1\u001b[0m\u001b[1;33m)\u001b[0m\u001b[1;33m.\u001b[0m\u001b[0mall\u001b[0m\u001b[1;33m(\u001b[0m\u001b[1;33m)\u001b[0m\u001b[1;33m:\u001b[0m\u001b[1;33m\u001b[0m\u001b[1;33m\u001b[0m\u001b[0m\n",
      "\u001b[1;32m~\\anaconda3\\envs\\main\\lib\\site-packages\\pandas\\core\\indexes\\multi.py\u001b[0m in \u001b[0;36m_convert_listlike_indexer\u001b[1;34m(self, keyarr)\u001b[0m\n\u001b[0;32m   2566\u001b[0m             \u001b[0mmask\u001b[0m \u001b[1;33m=\u001b[0m \u001b[0mcheck\u001b[0m \u001b[1;33m==\u001b[0m \u001b[1;33m-\u001b[0m\u001b[1;36m1\u001b[0m\u001b[1;33m\u001b[0m\u001b[1;33m\u001b[0m\u001b[0m\n\u001b[0;32m   2567\u001b[0m             \u001b[1;32mif\u001b[0m \u001b[0mmask\u001b[0m\u001b[1;33m.\u001b[0m\u001b[0many\u001b[0m\u001b[1;33m(\u001b[0m\u001b[1;33m)\u001b[0m\u001b[1;33m:\u001b[0m\u001b[1;33m\u001b[0m\u001b[1;33m\u001b[0m\u001b[0m\n\u001b[1;32m-> 2568\u001b[1;33m                 \u001b[1;32mraise\u001b[0m \u001b[0mKeyError\u001b[0m\u001b[1;33m(\u001b[0m\u001b[1;34mf\"{keyarr[mask]} not in index\"\u001b[0m\u001b[1;33m)\u001b[0m\u001b[1;33m\u001b[0m\u001b[1;33m\u001b[0m\u001b[0m\n\u001b[0m\u001b[0;32m   2569\u001b[0m \u001b[1;33m\u001b[0m\u001b[0m\n\u001b[0;32m   2570\u001b[0m         \u001b[1;32mreturn\u001b[0m \u001b[0mindexer\u001b[0m\u001b[1;33m,\u001b[0m \u001b[0mkeyarr\u001b[0m\u001b[1;33m\u001b[0m\u001b[1;33m\u001b[0m\u001b[0m\n",
      "\u001b[1;31mKeyError\u001b[0m: \"['BABA US EQUITY' 'NIO US EQUITY' 'EDU US EQUITY' 'TAL US EQUITY'\\n 'JD US EQUITY' 'BIDU US EQUITY' 'TME US EQUITY' 'IQ US EQUITY'\\n 'LI US EQUITY' 'PDD US EQUITY' 'XPEV US EQUITY' 'VIPS US EQUITY'\\n 'JMIA US EQUITY' 'SE US EQUITY' 'FUTU US EQUITY' 'TIGR US EQUITY'\\n 'GOTU US EQUITY' 'AMRN US EQUITY' 'BILI US EQUITY' 'HIMX US EQUITY'\\n 'MLCO US EQUITY' 'BNTX US EQUITY' 'RLX US EQUITY' 'BEKE US EQUITY'\\n 'TCOM US EQUITY' 'CAN US EQUITY' 'CMPS US EQUITY' 'OTLY US EQUITY'\\n 'QD US EQUITY' 'MOMO US EQUITY' 'NTES US EQUITY' 'FINV US EQUITY'\\n 'YY US EQUITY' 'GDS US EQUITY' 'BTCM US EQUITY' 'HUYA US EQUITY'\\n 'LU US EQUITY' 'UXIN US EQUITY' 'AVDL US EQUITY' 'DOYU US EQUITY'\\n 'TX US EQUITY' 'LX US EQUITY' 'WIMI US EQUITY' 'JKS US EQUITY'\\n 'OZON US EQUITY' 'SOL US EQUITY' 'BZUN US EQUITY' 'KC US EQUITY'\\n 'ZTO US EQUITY' 'WB US EQUITY' 'DQ US EQUITY' 'QFIN US EQUITY'\\n 'BEST US EQUITY' 'NCTY US EQUITY' 'CRTO US EQUITY' 'SOHU US EQUITY'] not in index\""
     ]
    }
   ],
   "source": [
    "sector_df=con.ref(bdh_list, 'GICS_SECTOR_NAME')\n",
    "sector_df.set_index(\"ticker\")\n",
    "float_df=float_df[bdh_list]\n",
    "sector_df.set_axis(ticker_list,inplace=True)\n",
    "sector_df\n",
    "#sector_df.to_csv(Path(\"./data/Sector_List_20211102.csv\"))"
   ]
  },
  {
   "cell_type": "code",
   "execution_count": null,
   "id": "e3081a9d-a2ab-4b0e-ae1d-76bf12d9f380",
   "metadata": {},
   "outputs": [],
   "source": []
  }
 ],
 "metadata": {
  "kernelspec": {
   "display_name": "Python 3",
   "language": "python",
   "name": "python3"
  },
  "language_info": {
   "codemirror_mode": {
    "name": "ipython",
    "version": 3
   },
   "file_extension": ".py",
   "mimetype": "text/x-python",
   "name": "python",
   "nbconvert_exporter": "python",
   "pygments_lexer": "ipython3",
   "version": "3.7.10"
  }
 },
 "nbformat": 4,
 "nbformat_minor": 5
}
